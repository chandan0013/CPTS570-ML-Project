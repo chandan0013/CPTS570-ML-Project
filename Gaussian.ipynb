{
 "cells": [
  {
   "cell_type": "code",
   "execution_count": null,
   "metadata": {},
   "outputs": [],
   "source": [
    "import matplotlib.pyplot as plt\n",
    "import numpy as np\n",
    "import pandas as pd\n",
    "from sklearn.naive_bayes import GaussianNB\n",
    "import warnings\n",
    "warnings.filterwarnings('ignore')\n",
    "\n",
    "MyData = pd.read_csv(\"/Users/Chandan/Documents/CPTS 570/Project/Predict-zika-res-master/Outputs/Imputed_data_1.csv\", header=None)\n",
    "Y_train = MyData[MyData.columns[2:3]].values\n",
    "X_train = MyData[MyData.columns[7:]].values\n",
    "\n",
    "\n",
    "\n",
    "scaling = MinMaxScaler(feature_range=(-1,1)).fit(X_train)\n",
    "X_train = scaling.transform(X_train)\n",
    "\n",
    "gnb = GaussianNB()\n",
    "GnBTraining_acc = []\n",
    "GnBTest_acc = []\n",
    "\n",
    "\n",
    "count = 0\n",
    "for i in range(len(X_train)):\n",
    "    y = gnb.fit(X_train,Y_train).predict([X_train[i,:]])                  # Laplace Smoothing by default\n",
    "    if y != Y_train[i]:\n",
    "        count = count + 1 \n",
    "GnBTraining_acc.append((len(X_train)-count)/len(X_train)*100)\n",
    "\n",
    "GnBTraining_acc"
   ]
  },
  {
   "cell_type": "code",
   "execution_count": null,
   "metadata": {},
   "outputs": [],
   "source": []
  },
  {
   "cell_type": "code",
   "execution_count": null,
   "metadata": {},
   "outputs": [],
   "source": []
  },
  {
   "cell_type": "code",
   "execution_count": null,
   "metadata": {},
   "outputs": [],
   "source": []
  }
 ],
 "metadata": {
  "kernelspec": {
   "display_name": "Python 3",
   "language": "python",
   "name": "python3"
  },
  "language_info": {
   "codemirror_mode": {
    "name": "ipython",
    "version": 3
   },
   "file_extension": ".py",
   "mimetype": "text/x-python",
   "name": "python",
   "nbconvert_exporter": "python",
   "pygments_lexer": "ipython3",
   "version": "3.7.4"
  }
 },
 "nbformat": 4,
 "nbformat_minor": 2
}
